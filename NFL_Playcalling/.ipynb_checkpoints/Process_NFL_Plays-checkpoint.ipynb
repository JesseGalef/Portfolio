{
 "cells": [
  {
   "cell_type": "markdown",
   "metadata": {},
   "source": [
    "# Load & Process the play-by-play data for 2002 through 2012\n",
    "\n",
    "http://archive.advancedfootballanalytics.com/2010/04/play-by-play-data.html"
   ]
  },
  {
   "cell_type": "code",
   "execution_count": 4,
   "metadata": {
    "collapsed": true
   },
   "outputs": [],
   "source": [
    "import pandas as pd\n",
    "import numpy as np\n",
    "import matplotlib.pyplot as plt\n",
    "%matplotlib inline\n",
    "import math\n",
    "import re\n",
    "import time"
   ]
  },
  {
   "cell_type": "code",
   "execution_count": 5,
   "metadata": {
    "collapsed": true
   },
   "outputs": [],
   "source": [
    "plays = pd.DataFrame()\n",
    "for i in range(2002,2013):\n",
    "    year = str(i)\n",
    "    plays = plays.append(pd.read_csv('data/'+year+'_nfl_pbp_data.csv'), ignore_index=True)"
   ]
  },
  {
   "cell_type": "code",
   "execution_count": 3,
   "metadata": {
    "collapsed": false
   },
   "outputs": [
    {
     "name": "stderr",
     "output_type": "stream",
     "text": [
      "/Users/jessegalef/anaconda/lib/python2.7/site-packages/IPython/core/interactiveshell.py:2723: DtypeWarning: Columns (4) have mixed types. Specify dtype option on import or set low_memory=False.\n",
      "  interactivity=interactivity, compiler=compiler, result=result)\n"
     ]
    }
   ],
   "source": [
    "#plays = pd.read_csv('data/processed_plays.csv')\n",
    "#For when I want to make small improvements without re-creating everything"
   ]
  },
  {
   "cell_type": "code",
   "execution_count": 6,
   "metadata": {
    "collapsed": false
   },
   "outputs": [
    {
     "data": {
      "text/html": [
       "<div>\n",
       "<table border=\"1\" class=\"dataframe\">\n",
       "  <thead>\n",
       "    <tr style=\"text-align: right;\">\n",
       "      <th></th>\n",
       "      <th>gameid</th>\n",
       "      <th>qtr</th>\n",
       "      <th>min</th>\n",
       "      <th>sec</th>\n",
       "      <th>off</th>\n",
       "      <th>def</th>\n",
       "      <th>down</th>\n",
       "      <th>togo</th>\n",
       "      <th>ydline</th>\n",
       "      <th>description</th>\n",
       "      <th>offscore</th>\n",
       "      <th>defscore</th>\n",
       "      <th>season</th>\n",
       "    </tr>\n",
       "  </thead>\n",
       "  <tbody>\n",
       "    <tr>\n",
       "      <th>0</th>\n",
       "      <td>20020905_SF@NYG</td>\n",
       "      <td>1.0</td>\n",
       "      <td>NaN</td>\n",
       "      <td>0</td>\n",
       "      <td>SF</td>\n",
       "      <td>NYG</td>\n",
       "      <td>NaN</td>\n",
       "      <td>NaN</td>\n",
       "      <td>NaN</td>\n",
       "      <td>J.Cortez kicks 75 yards from SF 30 to NYG -5. ...</td>\n",
       "      <td>0.0</td>\n",
       "      <td>0.0</td>\n",
       "      <td>2002.0</td>\n",
       "    </tr>\n",
       "    <tr>\n",
       "      <th>1</th>\n",
       "      <td>20020905_SF@NYG</td>\n",
       "      <td>1.0</td>\n",
       "      <td>60.0</td>\n",
       "      <td>0</td>\n",
       "      <td>NYG</td>\n",
       "      <td>SF</td>\n",
       "      <td>1.0</td>\n",
       "      <td>10.0</td>\n",
       "      <td>80.0</td>\n",
       "      <td>(15:00) T.Barber left end to NYG 24 for 4 yard...</td>\n",
       "      <td>0.0</td>\n",
       "      <td>0.0</td>\n",
       "      <td>2002.0</td>\n",
       "    </tr>\n",
       "    <tr>\n",
       "      <th>2</th>\n",
       "      <td>20020905_SF@NYG</td>\n",
       "      <td>1.0</td>\n",
       "      <td>59.0</td>\n",
       "      <td>25</td>\n",
       "      <td>NYG</td>\n",
       "      <td>SF</td>\n",
       "      <td>2.0</td>\n",
       "      <td>6.0</td>\n",
       "      <td>76.0</td>\n",
       "      <td>(14:25) K.Collins pass incomplete to J.Shockey...</td>\n",
       "      <td>0.0</td>\n",
       "      <td>0.0</td>\n",
       "      <td>2002.0</td>\n",
       "    </tr>\n",
       "    <tr>\n",
       "      <th>3</th>\n",
       "      <td>20020905_SF@NYG</td>\n",
       "      <td>1.0</td>\n",
       "      <td>59.0</td>\n",
       "      <td>20</td>\n",
       "      <td>NYG</td>\n",
       "      <td>SF</td>\n",
       "      <td>3.0</td>\n",
       "      <td>6.0</td>\n",
       "      <td>76.0</td>\n",
       "      <td>(14:20) PENALTY on NYG-J.Shockey  False Start ...</td>\n",
       "      <td>0.0</td>\n",
       "      <td>0.0</td>\n",
       "      <td>2002.0</td>\n",
       "    </tr>\n",
       "    <tr>\n",
       "      <th>4</th>\n",
       "      <td>20020905_SF@NYG</td>\n",
       "      <td>1.0</td>\n",
       "      <td>59.0</td>\n",
       "      <td>20</td>\n",
       "      <td>NYG</td>\n",
       "      <td>SF</td>\n",
       "      <td>3.0</td>\n",
       "      <td>11.0</td>\n",
       "      <td>81.0</td>\n",
       "      <td>(14:20) (Shotgun) K.Collins pass intended for ...</td>\n",
       "      <td>0.0</td>\n",
       "      <td>0.0</td>\n",
       "      <td>2002.0</td>\n",
       "    </tr>\n",
       "  </tbody>\n",
       "</table>\n",
       "</div>"
      ],
      "text/plain": [
       "            gameid  qtr   min sec  off  def  down  togo  ydline  \\\n",
       "0  20020905_SF@NYG  1.0   NaN   0   SF  NYG   NaN   NaN     NaN   \n",
       "1  20020905_SF@NYG  1.0  60.0   0  NYG   SF   1.0  10.0    80.0   \n",
       "2  20020905_SF@NYG  1.0  59.0  25  NYG   SF   2.0   6.0    76.0   \n",
       "3  20020905_SF@NYG  1.0  59.0  20  NYG   SF   3.0   6.0    76.0   \n",
       "4  20020905_SF@NYG  1.0  59.0  20  NYG   SF   3.0  11.0    81.0   \n",
       "\n",
       "                                         description  offscore  defscore  \\\n",
       "0  J.Cortez kicks 75 yards from SF 30 to NYG -5. ...       0.0       0.0   \n",
       "1  (15:00) T.Barber left end to NYG 24 for 4 yard...       0.0       0.0   \n",
       "2  (14:25) K.Collins pass incomplete to J.Shockey...       0.0       0.0   \n",
       "3  (14:20) PENALTY on NYG-J.Shockey  False Start ...       0.0       0.0   \n",
       "4  (14:20) (Shotgun) K.Collins pass intended for ...       0.0       0.0   \n",
       "\n",
       "   season  \n",
       "0  2002.0  \n",
       "1  2002.0  \n",
       "2  2002.0  \n",
       "3  2002.0  \n",
       "4  2002.0  "
      ]
     },
     "execution_count": 6,
     "metadata": {},
     "output_type": "execute_result"
    }
   ],
   "source": [
    "plays.head()"
   ]
  },
  {
   "cell_type": "code",
   "execution_count": 7,
   "metadata": {
    "collapsed": true
   },
   "outputs": [],
   "source": [
    "plays['lead'] = plays.offscore - plays.defscore\n",
    "plays.description = plays.description.astype(str)\n",
    "\n",
    "plays['passAttempt'] = plays.description.apply(lambda x: 1 if ('pass' in x.lower() or 'sack' in x.lower() or 'incomplete' in x.lower()) else 0)\n",
    "plays['incomplete'] = plays.description.apply(lambda x: 1 if 'incomplete' in x.lower() else 0)\n",
    "plays['intercepted'] = plays.description.astype(str).apply(lambda x: 1 if 'intercept' in x.lower() else 0) \n",
    "# This doesn't cover penalties, but get that later\n",
    "\n",
    "plays['sack'] = plays.description.apply(lambda x: 1 if 'sack' in x.lower() else 0)\n",
    "plays['penalty'] = plays.description.apply(lambda x: 1 if (('penalty' in x.lower())&('declined' not in x.lower())) else 0)\n"
   ]
  },
  {
   "cell_type": "code",
   "execution_count": 8,
   "metadata": {
    "collapsed": true
   },
   "outputs": [],
   "source": [
    "\n",
    "def detect_rush(desc):\n",
    "    desc = desc.lower()\n",
    "    direction = re.search('\\. ?\\w+ (\\w+)', desc)\n",
    "    if direction != None: \n",
    "        if direction.group(1) in ['left', 'right','up','to', 'scrambles']: return 1\n",
    "    return 0\n",
    "\n",
    "plays['rushAttempt'] = plays.description.apply(detect_rush)\n",
    "\n",
    "plays['playtype'] = \"neither\"\n",
    "plays.ix[plays.rushAttempt==1, 'playtype'] = 'rush'\n",
    "plays.ix[plays.passAttempt==1, 'playtype'] = 'pass'\n",
    "plays.ix[plays.incomplete==1, 'playtype'] = 'incomplete'\n"
   ]
  },
  {
   "cell_type": "code",
   "execution_count": 9,
   "metadata": {
    "collapsed": false
   },
   "outputs": [
    {
     "data": {
      "text/plain": [
       "rush          154507\n",
       "pass          138855\n",
       "neither       104168\n",
       "incomplete     76370\n",
       "Name: playtype, dtype: int64"
      ]
     },
     "execution_count": 9,
     "metadata": {},
     "output_type": "execute_result"
    }
   ],
   "source": [
    "plays.playtype.value_counts()"
   ]
  },
  {
   "cell_type": "code",
   "execution_count": 10,
   "metadata": {
    "collapsed": false
   },
   "outputs": [
    {
     "data": {
      "text/plain": [
       "(1197, 21)"
      ]
     },
     "execution_count": 10,
     "metadata": {},
     "output_type": "execute_result"
    }
   ],
   "source": [
    "plays[(plays.rushAttempt==1)&(plays.passAttempt==1)].shape\n",
    "# 1197 plays are counted as both pass and rush - usually a penalty or quarterback scramble.\n",
    "# Sometimes the description says 'scramble' and other times it doesn't - I'm ok with this level\n",
    "# of noise"
   ]
  },
  {
   "cell_type": "code",
   "execution_count": 11,
   "metadata": {
    "collapsed": true
   },
   "outputs": [],
   "source": [
    "plays['nextoff'] = plays.off.shift(-1)\n",
    "plays['nextdown'] = plays.down.shift(-1)\n",
    "plays['nexttogo'] = plays.togo.shift(-1)\n",
    "plays['nextpenalty'] = plays.penalty.shift(-1)\n",
    "plays['nextoff'] = plays.off.shift(-1)\n",
    "\n",
    "plays['nextrushAttempt'] = plays.rushAttempt.shift(-1)\n",
    "plays['nextpassAttempt'] = plays.passAttempt.shift(-1)\n",
    "plays['nextplaytype'] = plays.playtype.shift(-1)\n",
    "\n",
    "def yards_net(desc):\n",
    "    desc = desc.lower()\n",
    "    while 'reversed' in desc:\n",
    "        desc = desc[desc.find('reversed')+len('reversed')]\n",
    "    for verb in ['aborted', 'intercept','field goal','punt','kick', 'extra point', 'conversion']:\n",
    "        if verb in desc: return np.nan\n",
    "    if 'spike' in desc: return -1 # I hope this is a fair assumption\n",
    "    num= re.search('(-?[0-9]+?) yard', desc)\n",
    "    if num == None:\n",
    "        if ('no gain' in desc) | ('incomplete' in desc): return 0\n",
    "#         print desc # This was for debugging purposes\n",
    "        return np.nan\n",
    "    else:\n",
    "        num = int(num.group(1))\n",
    "        if ('sack' in desc) | ('loss of' in desc)| (('penalty' in desc)&('decline' not in desc)&('between downs' not in desc)):\n",
    "            return -abs(num)\n",
    "        else:\n",
    "            return num\n",
    "    return np.nan\n",
    "\n",
    "\n",
    "plays['ydsnet'] = plays.description.astype(str).apply(yards_net)\n",
    "plays['nextydsnet'] = plays.ydsnet.shift(-1)\n"
   ]
  },
  {
   "cell_type": "code",
   "execution_count": 12,
   "metadata": {
    "collapsed": true
   },
   "outputs": [],
   "source": [
    "\n",
    "plays['prevIncomplete'] = plays.incomplete.shift(1)\n",
    "plays['prevYdline'] = plays.ydline.shift(1)\n",
    "plays['prevoff'] = plays['off'].shift(1)\n",
    "plays['prevdown'] = plays.down.shift(1)\n",
    "\n",
    "plays['prevYdsnet'] = plays.ydsnet.shift(1)\n",
    "plays['prevtogo'] = plays.togo.shift(1)\n",
    "plays['prevrushAttempt'] = plays.rushAttempt.shift(1)\n",
    "plays['prevpassAttempt'] = plays.passAttempt.shift(1)\n",
    "plays['prevplaytype'] = plays.playtype.shift(1)\n",
    "plays['prevpenalty'] = plays.penalty.shift(1)\n",
    "plays['switch'] = plays.prevrushAttempt != plays.rushAttempt\n",
    "\n",
    "plays['passYards'] = plays['ydsnet'] * plays['passAttempt']\n",
    "plays['rushYards'] = plays['ydsnet'] * plays['rushAttempt']\n",
    "\n"
   ]
  },
  {
   "cell_type": "markdown",
   "metadata": {},
   "source": [
    "## Previous Season stats"
   ]
  },
  {
   "cell_type": "code",
   "execution_count": 13,
   "metadata": {
    "collapsed": false
   },
   "outputs": [
    {
     "name": "stdout",
     "output_type": "stream",
     "text": [
      "CPU times: user 8min 56s, sys: 18.3 s, total: 9min 15s\n",
      "Wall time: 10min 6s\n"
     ]
    }
   ],
   "source": [
    "%%time\n",
    "# prev_season_rush_percent = plays[plays.down<=3].groupby(['off', 'season']).mean()[['rushAttempt']]\n",
    "for team in plays.off.unique():\n",
    "    for season in plays.season.unique():\n",
    "        prev_season = max(2002,season-1) \n",
    "        # Since I have no data for 2001, I use the 2002's own values to approximate\n",
    "        # This is suspect and it might be better to impute them in some manner\n",
    "\n",
    "        # May the statistics gods forgive me.\n",
    "        \n",
    "        plays.ix[(plays.off==team)&(plays.season==season), 'prev_season_rush_percent'] = plays[(plays.off==team)&(plays.season==prev_season)].rushAttempt.mean()\n",
    "        plays.ix[(plays['def']==team)&(plays.season==season), 'def_prev_season_rush_percent'] = plays[(plays['def']==team)&(plays.season==prev_season)].rushAttempt.mean()\n",
    "        plays.ix[(plays.off==team)&(plays.season==season), 'prev_season_rush_ydsnet_average'] = plays[(plays.off==team)&(plays.season==prev_season)&(plays.rushAttempt==1)].ydsnet.mean()\n",
    "        plays.ix[(plays.off==team)&(plays.season==season), 'prev_season_pass_ydsnet_average'] = plays[(plays.off==team)&(plays.season==prev_season)&(plays.passAttempt==1)].ydsnet.mean()\n",
    "        plays.ix[(plays['def']==team)&(plays.season==season), 'def_prev_season_rush_ydsnet_average'] = plays[(plays['def']==team)&(plays.season==prev_season)&(plays.rushAttempt==1)].ydsnet.mean()\n",
    "        plays.ix[(plays['def']==team)&(plays.season==season), 'def_prev_season_pass_ydsnet_average'] = plays[(plays['def']==team)&(plays.season==prev_season)&(plays.passAttempt==1)].ydsnet.mean()\n",
    "        plays.ix[(plays.off==team)&(plays.season==season), 'prev_season_incompletion_percent'] = plays[(plays.off==team)&(plays.season==prev_season)&(plays.passAttempt == 1)].incomplete.mean()\n",
    "        plays.ix[(plays['def']==team)&(plays.season==season), 'def_prev_season_incompletion_percent'] = plays[(plays['def']==team)&(plays.season==prev_season)&(plays.passAttempt==1)].incomplete.mean()\n",
    "\n",
    "\n",
    "plays['prev_season_offense_pass_yard_adv'] = plays['prev_season_pass_ydsnet_average'] - plays['def_prev_season_pass_ydsnet_average']\n",
    "plays['prev_season_offense_rush_yard_adv'] = plays['prev_season_rush_ydsnet_average'] - plays['def_prev_season_rush_ydsnet_average']\n",
    "plays['pass_comparative_adv'] = plays['prev_season_offense_pass_yard_adv'] - plays['prev_season_offense_rush_yard_adv']"
   ]
  },
  {
   "cell_type": "markdown",
   "metadata": {},
   "source": [
    "## This season up to now stats"
   ]
  },
  {
   "cell_type": "code",
   "execution_count": 52,
   "metadata": {
    "collapsed": false
   },
   "outputs": [
    {
     "name": "stdout",
     "output_type": "stream",
     "text": [
      "50 7.71403598785\n",
      "100 15.8557698727\n",
      "150 23.3103609085\n",
      "200 31.3258259296\n",
      "250 39.5116090775\n",
      "300 46.8024709225\n",
      "350 53.3494720459\n"
     ]
    }
   ],
   "source": [
    "\n",
    "count = 0\n",
    "t0 = time.time()\n",
    "for team in plays.off.unique():\n",
    "    for season in plays.season.unique():\n",
    "        count = count + 1\n",
    "        if count % 50 == 0:\n",
    "            print count, time.time() - t0\n",
    "\n",
    "        # In order to avoid division by zero, I considered adding one to the denominator, which\n",
    "        # ends up giving predictive models too much information - if the first plays are passes, average rushing yards\n",
    "        # is zero and the model can be very confident the previous plays were passes.\n",
    "\n",
    "        # Instead, I'm adding one rush & pass that gained the team's previous season's average net yard.\n",
    "        # (for incompletion percent, I'm adding the previous season's incompletion percent to the nominator and 1 to the denominator)\n",
    "            \n",
    "        season_team_df = plays[(plays.off == team)&(plays.season == season)]\n",
    "        number_of_rushes_plus_one = season_team_df.rushAttempt.cumsum().shift(1).fillna(0) + 1\n",
    "        number_of_passes_plus_one = season_team_df.passAttempt.cumsum().shift(1).fillna(0) + 1\n",
    "\n",
    "        \n",
    "        plays.ix[season_team_df.index, 'cumulative_season_incompletion_percent'] = (plays.ix[season_team_df.index, 'incomplete'].cumsum().shift(1).fillna(0) +\n",
    "                                                                                    plays.ix[season_team_df.index, 'prev_season_incompletion_percent'])/ number_of_passes_plus_one\n",
    "        \n",
    "        \n",
    "        plays.ix[season_team_df.index, 'cumulative_season_rush_yards']= season_team_df.rushYards.cumsum().shift(1).fillna(0)\n",
    "        plays.ix[season_team_df.index, 'cumulative_season_rush_average'] = (plays.ix[season_team_df.index, 'cumulative_season_rush_yards'] + plays.ix[season_team_df.index, 'prev_season_rush_ydsnet_average']) / number_of_rushes_plus_one\n",
    "        \n",
    "        plays.ix[season_team_df.index, 'cumulative_season_pass_yards']= season_team_df.passYards.cumsum().shift(1).fillna(0)\n",
    "        plays.ix[season_team_df.index, 'cumulative_season_pass_average'] = (plays.ix[season_team_df.index, 'cumulative_season_pass_yards'] + plays.ix[season_team_df.index, 'prev_season_pass_ydsnet_average']) / number_of_passes_plus_one\n",
    "\n",
    "\n",
    "plays['cumulative_season_incompletion_percent'].fillna(0,inplace=True)\n",
    "plays['cumulative_season_rush_yards'].fillna(0,inplace=True)\n",
    "plays['cumulative_season_rush_average'].fillna(0,inplace=True)\n",
    "plays['cumulative_season_pass_yards'].fillna(0,inplace=True)\n",
    "plays['cumulative_season_pass_average'].fillna(0,inplace=True)"
   ]
  },
  {
   "cell_type": "markdown",
   "metadata": {},
   "source": [
    "## This game up to now stats"
   ]
  },
  {
   "cell_type": "code",
   "execution_count": 53,
   "metadata": {
    "collapsed": false,
    "scrolled": true
   },
   "outputs": [
    {
     "name": "stdout",
     "output_type": "stream",
     "text": [
      "100 0.513027934233  minutes\n",
      "200 1.07461178303  minutes\n",
      "300 1.55073531469  minutes\n",
      "400 2.10046986739  minutes\n",
      "500 2.71330634753  minutes\n",
      "600 3.4666520675  minutes\n",
      "700 4.46464219888  minutes\n",
      "800 5.31489789883  minutes\n",
      "900 6.21528999805  minutes\n",
      "1000 7.12336596648  minutes\n",
      "1100 7.94950791597  minutes\n",
      "1200 8.81547385057  minutes\n",
      "1300 9.49435428381  minutes\n",
      "1400 10.0467156172  minutes\n",
      "1500 10.6402755658  minutes\n",
      "1600 11.6065272331  minutes\n",
      "1700 13.0305974841  minutes\n",
      "1800 13.9603655974  minutes\n",
      "1900 14.5460682829  minutes\n",
      "2000 15.5715805332  minutes\n",
      "2100 16.2602764805  minutes\n",
      "2200 16.8137724638  minutes\n",
      "2300 17.3972961664  minutes\n",
      "2400 17.8798504829  minutes\n",
      "2500 18.3869715651  minutes\n",
      "2600 18.9882703821  minutes\n",
      "2700 19.5895814975  minutes\n",
      "2800 20.2130103827  minutes\n",
      "2900 20.7125447472  minutes\n",
      "3000 21.3230306149  minutes\n",
      "3100 21.7985897501  minutes\n",
      "3200 22.2970364491  minutes\n",
      "3300 23.0071259141  minutes\n",
      "3400 23.4750231663  minutes\n",
      "3500 23.9449825486  minutes\n",
      "3600 24.498573633  minutes\n",
      "3700 24.9801788489  minutes\n",
      "3800 25.4393068989  minutes\n",
      "3900 25.9247040669  minutes\n",
      "4000 26.4037647327  minutes\n",
      "4100 26.9924707492  minutes\n",
      "4200 27.4652440508  minutes\n",
      "4300 28.0029791991  minutes\n",
      "4400 28.4810032328  minutes\n",
      "4500 29.180718565  minutes\n",
      "4600 29.6945945501  minutes\n",
      "4700 30.2141111175  minutes\n",
      "4800 30.7043459495  minutes\n",
      "4900 31.2603256146  minutes\n",
      "5000 31.7585696975  minutes\n",
      "5100 32.3002214988  minutes\n",
      "5200 32.7553118149  minutes\n",
      "5300 33.1986561338  minutes\n",
      "5400 33.7228695313  minutes\n",
      "5500 34.2135900974  minutes\n",
      "5600 34.6933224837  minutes\n",
      "5700 35.1367223342  minutes\n",
      "5800 35.5952586492  minutes\n",
      "5900 36.0579351823  minutes\n",
      "6000 36.5408402483  minutes\n",
      "CPU times: user 30min 49s, sys: 1min 31s, total: 32min 21s\n",
      "Wall time: 36min 38s\n"
     ]
    }
   ],
   "source": [
    "%%time\n",
    "count = 0\n",
    "t0=time.time()\n",
    "# print \"Total number of team/game combinations: \", len(plays.gameid.unique())*2\n",
    "for game in plays.gameid.unique():\n",
    "    for team in plays[plays.gameid == game]['off'].unique():\n",
    "        count +=1\n",
    "        if count%100==0: \n",
    "            print count, (time.time() - t0)/60., ' minutes'\n",
    "        game_team_df = plays[(plays.gameid == game)&(plays.off == team)]\n",
    "        plays.ix[game_team_df.index, 'cumulative_rush_yards']= game_team_df.rushYards.cumsum().shift(1)\n",
    "        plays.ix[game_team_df.index, 'cumulative_pass_yards']= game_team_df.passYards.cumsum().shift(1)\n",
    "        \n",
    "        number_of_rushes_plus_one = game_team_df.rushAttempt.cumsum().shift(1).fillna(0) + 1\n",
    "        number_of_passes_plus_one = game_team_df.passAttempt.cumsum().shift(1).fillna(0) + 1\n",
    "\n",
    "        plays.ix[game_team_df.index, 'cumulative_mean_rush_yards'] = (plays.ix[game_team_df.index, 'cumulative_rush_yards'] + plays.ix[game_team_df.index, 'cumulative_season_rush_average']) / number_of_rushes_plus_one                                                                      \n",
    "        plays.ix[game_team_df.index, 'cumulative_mean_pass_yards'] = (plays.ix[game_team_df.index, 'cumulative_pass_yards'] + plays.ix[game_team_df.index, 'cumulative_season_pass_average']) / number_of_passes_plus_one\n",
    "        plays.ix[game_team_df.index, 'cumulative_incompletion_percent'] = (game_team_df.incomplete.cumsum().shift(1).fillna(0) + game_team_df.cumulative_season_incompletion_percent) / number_of_passes_plus_one"
   ]
  },
  {
   "cell_type": "code",
   "execution_count": 55,
   "metadata": {
    "collapsed": true
   },
   "outputs": [],
   "source": [
    "plays.cumulative_rush_yards.fillna(0, inplace=True)\n",
    "plays.cumulative_pass_yards.fillna(0, inplace=True)\n",
    "plays.cumulative_mean_rush_yards.fillna(0, inplace=True)\n",
    "plays.cumulative_mean_pass_yards.fillna(0, inplace=True)\n",
    "plays.cumulative_incompletion_percent.fillna(0, inplace=True)\n"
   ]
  },
  {
   "cell_type": "code",
   "execution_count": null,
   "metadata": {
    "collapsed": true
   },
   "outputs": [],
   "source": []
  },
  {
   "cell_type": "code",
   "execution_count": 56,
   "metadata": {
    "collapsed": true
   },
   "outputs": [],
   "source": [
    "plays['hurrying'] = ((plays.qtr==2)&(plays['min']<=34)) | ((plays.qtr==4)&(plays.lead<=0)&(plays['min']<=4))\n",
    "plays['runOutClock'] = ((plays.lead>0)&(plays['min'] <=4))\n",
    "\n",
    "plays['timeunder'] = (plays['min']-1) % 15\n",
    "\n",
    "plays['timehalf'] = (plays['min']-1) % 30\n",
    "\n"
   ]
  },
  {
   "cell_type": "code",
   "execution_count": 57,
   "metadata": {
    "collapsed": true
   },
   "outputs": [],
   "source": [
    "plays.to_csv('data/processed_plays.csv')"
   ]
  },
  {
   "cell_type": "code",
   "execution_count": 58,
   "metadata": {
    "collapsed": false
   },
   "outputs": [
    {
     "data": {
      "text/plain": [
       "<matplotlib.axes._subplots.AxesSubplot at 0x11c767b90>"
      ]
     },
     "execution_count": 58,
     "metadata": {},
     "output_type": "execute_result"
    },
    {
     "data": {
      "image/png": "[encoded data removed]",
      "text/plain": [
       "<matplotlib.figure.Figure at 0x11e1fef10>"
      ]
     },
     "metadata": {},
     "output_type": "display_data"
    }
   ],
   "source": [
    "plays[plays.down==2].cumulative_season_pass_average.plot(kind='kde')"
   ]
  },
  {
   "cell_type": "code",
   "execution_count": null,
   "metadata": {
    "collapsed": true
   },
   "outputs": [],
   "source": []
  }
 ],
 "metadata": {
  "kernelspec": {
   "display_name": "Python 2",
   "language": "python",
   "name": "python2"
  },
  "language_info": {
   "codemirror_mode": {
    "name": "ipython",
    "version": 2
   },
   "file_extension": ".py",
   "mimetype": "text/x-python",
   "name": "python",
   "nbconvert_exporter": "python",
   "pygments_lexer": "ipython2",
   "version": "2.7.11"
  }
 },
 "nbformat": 4,
 "nbformat_minor": 0
}
